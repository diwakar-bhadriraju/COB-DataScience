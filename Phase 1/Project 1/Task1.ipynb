{
  "nbformat": 4,
  "nbformat_minor": 0,
  "metadata": {
    "colab": {
      "provenance": []
    },
    "kernelspec": {
      "name": "python3",
      "display_name": "Python 3"
    },
    "language_info": {
      "name": "python"
    }
  },
  "cells": [
    {
      "cell_type": "markdown",
      "source": [
        "#Installing **Pandas** for saving ***json to a pandas Dataframe*** and **Conversion to CSV**"
      ],
      "metadata": {
        "id": "lwERqrtqceIX"
      }
    },
    {
      "cell_type": "code",
      "execution_count": 9,
      "metadata": {
        "colab": {
          "base_uri": "https://localhost:8080/"
        },
        "id": "9HljySLUax-9",
        "outputId": "f188e84c-22b8-452f-e9f1-69b34c189970"
      },
      "outputs": [
        {
          "output_type": "stream",
          "name": "stdout",
          "text": [
            "Requirement already satisfied: pandas in /usr/local/lib/python3.10/dist-packages (1.5.3)\n",
            "Requirement already satisfied: python-dateutil>=2.8.1 in /usr/local/lib/python3.10/dist-packages (from pandas) (2.8.2)\n",
            "Requirement already satisfied: pytz>=2020.1 in /usr/local/lib/python3.10/dist-packages (from pandas) (2023.3.post1)\n",
            "Requirement already satisfied: numpy>=1.21.0 in /usr/local/lib/python3.10/dist-packages (from pandas) (1.23.5)\n",
            "Requirement already satisfied: six>=1.5 in /usr/local/lib/python3.10/dist-packages (from python-dateutil>=2.8.1->pandas) (1.16.0)\n"
          ]
        }
      ],
      "source": [
        "!pip install pandas"
      ]
    },
    {
      "cell_type": "code",
      "source": [
        "import pandas as pd\n",
        "import requests"
      ],
      "metadata": {
        "id": "wtcrZKTxcbTm"
      },
      "execution_count": 10,
      "outputs": []
    },
    {
      "cell_type": "markdown",
      "source": [
        "#API URL from **JSON Place Holder**"
      ],
      "metadata": {
        "id": "MFP2eZIGdKsr"
      }
    },
    {
      "cell_type": "code",
      "source": [
        "api_url = \"https://jsonplaceholder.typicode.com/photos\""
      ],
      "metadata": {
        "id": "vciP9SpsdGNc"
      },
      "execution_count": 11,
      "outputs": []
    },
    {
      "cell_type": "markdown",
      "source": [
        "Get the data from API and convert the following JSON to PD Dataframe and then to CSV"
      ],
      "metadata": {
        "id": "_CDGVh18djIt"
      }
    },
    {
      "cell_type": "code",
      "source": [
        "response = requests.get(api_url)\n",
        "\n",
        "if response.status_code == 200:\n",
        "    # Parse the JSON response\n",
        "    data = response.json()\n",
        "\n",
        "    # Create a DataFrame from the JSON data\n",
        "    df = pd.DataFrame(data)\n",
        "\n",
        "    # Define the file name for the CSV dataset\n",
        "    csv_file_name = \"task1.csv\"\n",
        "\n",
        "    # Save the DataFrame as a CSV file\n",
        "    df.to_csv(csv_file_name, index=False)\n",
        "\n",
        "    print(f\"CSV dataset saved as {csv_file_name}\")\n",
        "else:\n",
        "    print(f\"Failed to fetch data from the API. Status code: {response.status_code}\")"
      ],
      "metadata": {
        "colab": {
          "base_uri": "https://localhost:8080/"
        },
        "id": "UATTTvEZdXpk",
        "outputId": "3db1c130-464b-4ab6-faaf-5bab67fb5f0f"
      },
      "execution_count": 12,
      "outputs": [
        {
          "output_type": "stream",
          "name": "stdout",
          "text": [
            "CSV dataset saved as task1.csv\n"
          ]
        }
      ]
    }
  ]
}