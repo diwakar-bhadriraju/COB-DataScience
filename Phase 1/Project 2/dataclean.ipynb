{
 "cells": [
  {
   "cell_type": "code",
   "execution_count": 23,
   "metadata": {},
   "outputs": [],
   "source": [
    "import pandas as pd\n",
    "from unidecode import unidecode\n",
    "import re\n",
    "from tqdm import tqdm"
   ]
  },
  {
   "cell_type": "code",
   "execution_count": 24,
   "metadata": {},
   "outputs": [],
   "source": [
    "file_path = 'netflix.csv'\n",
    "data = pd.read_csv(file_path)"
   ]
  },
  {
   "cell_type": "code",
   "execution_count": 25,
   "metadata": {},
   "outputs": [],
   "source": [
    "# Function to clean text columns\n",
    "def clean_text(text):\n",
    "    return unidecode(str(text))\n",
    "\n",
    "# Function to validate date format\n",
    "def valid_date(date):\n",
    "    date_regex = r'\\b(0?[1-9]|1[0-2])/(0?[1-9]|[12][0-9]|3[01])/(19|20)\\d{2}\\b'  # Define date regex\n",
    "    return re.match(date_regex, str(date)) is not None\n",
    "\n",
    "# Function to validate year format\n",
    "def valid_year(year):\n",
    "    return str(year).isdigit() and len(str(year)) == 4"
   ]
  },
  {
   "cell_type": "code",
   "execution_count": 26,
   "metadata": {},
   "outputs": [
    {
     "name": "stderr",
     "output_type": "stream",
     "text": [
      "Cleaning show_id Column: 100%|██████████| 8790/8790 [00:00<00:00, 58237.01it/s]\n",
      "Cleaning type Column: 100%|██████████| 8790/8790 [00:00<00:00, 67770.69it/s]\n",
      "Cleaning title Column: 100%|██████████| 8790/8790 [00:00<00:00, 59233.87it/s]\n",
      "Cleaning director Column: 100%|██████████| 8790/8790 [00:00<00:00, 62378.49it/s]\n",
      "Cleaning country Column: 100%|██████████| 8790/8790 [00:00<00:00, 62300.49it/s]\n",
      "Cleaning listed_in Column: 100%|██████████| 8790/8790 [00:00<00:00, 63717.88it/s]\n",
      "Validating duration Column: 100%|██████████| 8790/8790 [00:00<00:00, 57282.68it/s]\n",
      "Validating release_year Column: 100%|██████████| 8790/8790 [00:00<00:00, 878854.16it/s]\n",
      "Validating date_added Column: 100%|██████████| 8790/8790 [00:00<00:00, 474924.73it/s]\n",
      "Validating rating Column: 100%|██████████| 8790/8790 [00:00<00:00, 54036.45it/s]\n"
     ]
    }
   ],
   "source": [
    "# Applying text cleaning using tqdm for progress monitoring\n",
    "columns_to_clean = ['show_id', 'type', 'title', 'director', 'country', 'listed_in']\n",
    "for column in columns_to_clean:\n",
    "    with tqdm(total=len(data[column]), desc=f\"Cleaning {column} Column\") as pbar:\n",
    "        for i, value in enumerate(data[column]):\n",
    "            data.at[i, column] = clean_text(value)\n",
    "            pbar.update(1)\n",
    "\n",
    "# Validating 'duration', 'release_year', 'date_added', and 'rating' columns\n",
    "columns_to_validate = ['duration', 'release_year', 'date_added', 'rating']\n",
    "for column in columns_to_validate:\n",
    "    with tqdm(total=len(data[column]), desc=f\"Validating {column} Column\") as pbar:\n",
    "        if column == 'duration':\n",
    "            for i, value in enumerate(data[column]):\n",
    "                if not all(char.isdigit() or char.isspace() for char in str(value)):\n",
    "                    data.at[i, column] = clean_text(value)\n",
    "                pbar.update(1)\n",
    "        elif column == 'release_year':\n",
    "            for i, value in enumerate(data[column]):\n",
    "                if not valid_year(str(value)):\n",
    "                    data.at[i, column] = clean_text(value)\n",
    "                pbar.update(1)\n",
    "        elif column == 'date_added':\n",
    "            for i, value in enumerate(data[column]):\n",
    "                if not valid_date(value):\n",
    "                    data.at[i, column] = clean_text(value)\n",
    "                pbar.update(1)\n",
    "        elif column == 'rating':\n",
    "            for i, value in enumerate(data[column]):\n",
    "                if not all(char.isdigit() or char in ['.', '-', '+'] for char in str(value)):\n",
    "                    data.at[i, column] = clean_text(value)\n",
    "                pbar.update(1)"
   ]
  },
  {
   "cell_type": "code",
   "execution_count": 27,
   "metadata": {},
   "outputs": [],
   "source": [
    "# Comment this whole cell to ignore the Not Given text in different rows of different columns\n",
    "variations_to_remove = ['', 'not given', 'notgiven', 'Not Given']\n",
    "data = data[~data['country'].apply(lambda x: x.strip().lower() in variations_to_remove)]\n",
    "data = data[~data['director'].apply(lambda x: x.strip().lower() in variations_to_remove)]\n"
   ]
  },
  {
   "cell_type": "code",
   "execution_count": 28,
   "metadata": {},
   "outputs": [],
   "source": [
    "# Save the cleaned data to a new CSV file\n",
    "cleaned_file_path = 'cleaned_data.csv'\n",
    "data.to_csv(cleaned_file_path, index=False)"
   ]
  }
 ],
 "metadata": {
  "kernelspec": {
   "display_name": "aiml",
   "language": "python",
   "name": "python3"
  },
  "language_info": {
   "codemirror_mode": {
    "name": "ipython",
    "version": 3
   },
   "file_extension": ".py",
   "mimetype": "text/x-python",
   "name": "python",
   "nbconvert_exporter": "python",
   "pygments_lexer": "ipython3",
   "version": "3.12.0"
  }
 },
 "nbformat": 4,
 "nbformat_minor": 2
}
